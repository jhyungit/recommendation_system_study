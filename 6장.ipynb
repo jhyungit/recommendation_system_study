{
 "cells": [
  {
   "cell_type": "markdown",
   "metadata": {},
   "source": [
    "## 6.1 하이브리드 추천 시스템의 원리"
   ]
  },
  {
   "cell_type": "code",
   "execution_count": 7,
   "metadata": {},
   "outputs": [
    {
     "data": {
      "text/plain": [
       "1.5611574291332206"
      ]
     },
     "execution_count": 7,
     "metadata": {},
     "output_type": "execute_result"
    }
   ],
   "source": [
    "from sklearn.model_selection import train_test_split\n",
    "import random\n",
    "import numpy as np\n",
    "import pandas as pd\n",
    "\n",
    "r_cols = ['user_id', 'movie_id', 'rating',' timestamp']\n",
    "ratings = pd.read_csv('ml-100k/u.data',\n",
    "                      names = r_cols,\n",
    "                      sep = '\\t',\n",
    "                      encoding='latin-1')\n",
    "ratings_train, ratings_test = train_test_split(ratings,\n",
    "                                               test_size=0.2,\n",
    "                                               shuffle=True,\n",
    "                                               random_state=2021)\n",
    "                                               \n",
    "def RMSE2(y_true, y_pred):\n",
    "    return np.sqrt(np.mean((np.array(y_true)-np.array(y_pred))**2))\n",
    "\n",
    "def recommender_1(recom_list):\n",
    "    recommendations = []\n",
    "    for pair in recom_list:\n",
    "        recommendations.append(random.random() * 4 + 1) # random.radom(): 0~1 사이 난수\n",
    "    return np.array(recommendations)\n",
    "    \n",
    "def recommender_2(recom_list):\n",
    "    recommendations = []\n",
    "    for pair in recom_list:\n",
    "        recommendations.append(random.random() * 4 + 1) # random.radom(): 0~1 사이 난수\n",
    "    return np.array(recommendations)\n",
    "    \n",
    "weight = [0.8, 0.2]\n",
    "recom_list = np.array(ratings_test)\n",
    "predictions_1 = recommender_1(recom_list)\n",
    "predictions_2 = recommender_2(recom_list)\n",
    "\n",
    "predictions = predictions_1 * weight[0] + predictions_2 * weight[1]\n",
    "RMSE2(recom_list[:,2], predictions)"
   ]
  }
 ],
 "metadata": {
  "kernelspec": {
   "display_name": "Python 3",
   "language": "python",
   "name": "python3"
  },
  "language_info": {
   "codemirror_mode": {
    "name": "ipython",
    "version": 3
   },
   "file_extension": ".py",
   "mimetype": "text/x-python",
   "name": "python",
   "nbconvert_exporter": "python",
   "pygments_lexer": "ipython3",
   "version": "3.9.6"
  },
  "orig_nbformat": 4,
  "vscode": {
   "interpreter": {
    "hash": "b0fa6594d8f4cbf19f97940f81e996739fb7646882a419484c72d19e05852a7e"
   }
  }
 },
 "nbformat": 4,
 "nbformat_minor": 2
}
