{
 "cells": [
  {
   "cell_type": "markdown",
   "metadata": {},
   "source": [
    "## 7.1 Sparse matrix의 개념과 Python에서의 사용"
   ]
  },
  {
   "cell_type": "code",
   "execution_count": 6,
   "metadata": {},
   "outputs": [
    {
     "name": "stdout",
     "output_type": "stream",
     "text": [
      "[[4. 0. 0.]\n",
      " [0. 3. 0.]\n",
      " [0. 0. 1.]]\n"
     ]
    }
   ],
   "source": [
    "import numpy as np\n",
    "import pandas as pd\n",
    "# sparse matrix를 사용하기 위한 scipy library\n",
    "from scipy.sparse import csr_matrix\n",
    "\n",
    "# 간단한 테스트를 위한 임시 데이터\n",
    "ratings = {'user_id' : [1,2,4],\n",
    "           'movie_id' : [2,3,7],\n",
    "           'rating' : [4,3,1],}\n",
    "ratings = pd.DataFrame(ratings)\n",
    "\n",
    "# Pandas pivot을 이용해서 full matrix 변환\n",
    "# 일반적인 Datarame의 pivot 기능을 사용해서 full matrix 변환\n",
    "rating_matrix = ratings.pivot(index = 'user_id',\n",
    "                              columns='movie_id',\n",
    "                              values='rating').fillna(0)\n",
    "full_matrix = np.array(rating_matrix)\n",
    "print(full_matrix)"
   ]
  },
  {
   "cell_type": "code",
   "execution_count": 12,
   "metadata": {},
   "outputs": [
    {
     "name": "stdout",
     "output_type": "stream",
     "text": [
      "  (1, 2)\t4\n",
      "  (2, 3)\t3\n",
      "  (4, 7)\t1\n"
     ]
    }
   ],
   "source": [
    "# Sparse matrix를 이용해서 full matrix 변환\n",
    "# 원소의 값(평점) 지정\n",
    "data = np.array(ratings['rating'])\n",
    "# row 인덱스 지정\n",
    "row_indices = np.array(ratings['user_id'])\n",
    "# column 인덱스 지정\n",
    "col_indices = np.array(ratings['movie_id'])\n",
    "# 원래 데이터를 csr_matrix로 변환\n",
    "rating_matrix = csr_matrix((data,(row_indices,col_indices)), dtype = int)\n",
    "print(rating_matrix)"
   ]
  },
  {
   "cell_type": "code",
   "execution_count": 23,
   "metadata": {},
   "outputs": [
    {
     "name": "stdout",
     "output_type": "stream",
     "text": [
      "4\n",
      "3\n",
      "1\n"
     ]
    }
   ],
   "source": [
    "print(rating_matrix[1,2])\n",
    "print(rating_matrix[2,3])\n",
    "print(rating_matrix[4,7])"
   ]
  },
  {
   "cell_type": "code",
   "execution_count": 25,
   "metadata": {},
   "outputs": [
    {
     "name": "stdout",
     "output_type": "stream",
     "text": [
      "[[0 0 0 0 0 0 0 0]\n",
      " [0 0 4 0 0 0 0 0]\n",
      " [0 0 0 3 0 0 0 0]\n",
      " [0 0 0 0 0 0 0 0]\n",
      " [0 0 0 0 0 0 0 1]]\n"
     ]
    }
   ],
   "source": [
    "full_matrix2 = rating_matrix.toarray()\n",
    "print(full_matrix2)"
   ]
  }
 ],
 "metadata": {
  "kernelspec": {
   "display_name": "Python 3",
   "language": "python",
   "name": "python3"
  },
  "language_info": {
   "codemirror_mode": {
    "name": "ipython",
    "version": 3
   },
   "file_extension": ".py",
   "mimetype": "text/x-python",
   "name": "python",
   "nbconvert_exporter": "python",
   "pygments_lexer": "ipython3",
   "version": "3.9.6"
  },
  "orig_nbformat": 4,
  "vscode": {
   "interpreter": {
    "hash": "b0fa6594d8f4cbf19f97940f81e996739fb7646882a419484c72d19e05852a7e"
   }
  }
 },
 "nbformat": 4,
 "nbformat_minor": 2
}
